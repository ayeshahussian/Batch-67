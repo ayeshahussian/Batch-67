{
  "nbformat": 4,
  "nbformat_minor": 0,
  "metadata": {
    "colab": {
      "provenance": []
    },
    "kernelspec": {
      "name": "python3",
      "display_name": "Python 3"
    },
    "language_info": {
      "name": "python"
    }
  },
  "cells": [
    {
      "cell_type": "code",
      "execution_count": 1,
      "metadata": {
        "id": "JT-1t-qftRNJ",
        "colab": {
          "base_uri": "https://localhost:8080/"
        },
        "outputId": "7b2fa2f1-c881-4d5b-ceaa-5b3511f474e5"
      },
      "outputs": [
        {
          "output_type": "stream",
          "name": "stdout",
          "text": [
            "Name: Ayesha Hussain\n",
            "Father's Name: Gulam Hussain\n",
            "Your current status: Student\n",
            "Field of study: AI\n",
            "Age: 19\n",
            "City: Pakpattan\n"
          ]
        }
      ],
      "source": [
        "print(\"Name: Ayesha Hussain\")\n",
        "print(\"Father's Name: Gulam Hussain\")\n",
        "print(\"Your current status: Student\")\n",
        "print(\"Field of study: AI\")\n",
        "print(\"Age: 19\")\n",
        "print(\"City: Pakpattan\")"
      ]
    }
  ]
}